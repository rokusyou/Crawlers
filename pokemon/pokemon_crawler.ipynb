{
 "cells": [
  {
   "cell_type": "code",
   "execution_count": 40,
   "metadata": {},
   "outputs": [
    {
     "name": "stdout",
     "output_type": "stream",
     "text": [
      "https://yakkun.com/sm/zukan/n1\n",
      "STAART CRAWLING\n",
      "\n",
      "\n",
      "\n",
      "None\n"
     ]
    }
   ],
   "source": [
    "from bs4 import BeautifulSoup\n",
    "import urllib.request as req\n",
    "import numpy as np\n",
    "from scrapers import *\n",
    "\n",
    "####  Settings ####\n",
    "GENAEARION = 'sm'\n",
    "START_NUM = 1\n",
    "URL = 'https://yakkun.com/%s/zukan/n%s' % (GENAEARION, START_NUM)\n",
    "# from Local\n",
    "LOCAL_URL = '.\\pokemon_No1.html'\n",
    "print(URL)\n",
    "\n",
    "\n",
    "\n",
    "\n",
    "def get_soup(url):\n",
    "\n",
    "    try:\n",
    "        # Not Local \n",
    "        res = req.urlopen(url)\n",
    "        soup = BeautifulSoup(res,'html.parser')\n",
    "        return soup\n",
    "\n",
    "    except urllib.error.HTTPError as http_e:\n",
    "        print( http_e.code , http_e.reason, url)\n",
    "        log_str = str( http_e.code) + http_e.reason +  url\n",
    "        write_log(LOG_F, str(http_e.code)  )\n",
    "    except Exception as e:\n",
    "        print(e)\n",
    "\n",
    "# Reducing target server load\n",
    "def get_soup_local(url,encoding):\n",
    "        with open(url,encoding=encoding) as myfile:         \n",
    "            soup = BeautifulSoup(myfile, 'html.parser')\n",
    "        return soup\n",
    "\n",
    "def scrape_pokemon_type(soup):\n",
    "    types = []\n",
    "    print(\"SCRAPING Pokemon TYPE!!\")\n",
    "    ul_soup = soup.find('ul',class_='type')\n",
    "    #print(ul_soup)\n",
    "    for li_soup in ul_soup.findAll('img'):\n",
    "    #li_soup = ul_soup.find('img')\n",
    "        #print('\\n')\n",
    "        #print(li_soup)\n",
    "        type = li_soup['alt'] \n",
    "        print(type)\n",
    "        types.append(type)\n",
    "    \n",
    "    return types\n",
    "\n",
    "    \n",
    "if __name__ == '__main__':\n",
    "    print(\"STAART CRAWLING\")\n",
    "    #soup = get_soup(URL)\n",
    "    soup = get_soup_local(LOCAL_URL,'EUC-jp')\n",
    "    types = scrape_pokemon_type(soup)\n",
    "    print(types)\n",
    "    #scrape_pokemon_skills(soup)"
   ]
  },
  {
   "cell_type": "code",
   "execution_count": 103,
   "metadata": {},
   "outputs": [
    {
     "name": "stdout",
     "output_type": "stream",
     "text": [
      "STAART CRAWLING\n",
      "SCRAPING Pokemon TYPE!!\n",
      "くさ\n",
      "どく\n",
      "技 Included Break!!\n",
      "フシギダネ\n",
      "['くさ', 'どく']\n",
      "['たいあたり', 'なきごえ', 'やどりぎのタネ', 'つるのムチ', 'つるのムチ', 'どくのこな', 'ねむりごな', 'とっしん', 'はっぱカッター', 'あまいかおり', 'せいちょう', 'すてみタックル', 'なやみのタネ', 'こうごうせい', 'タネばくだん']\n"
     ]
    }
   ],
   "source": [
    "\n",
    "def scrape_pokemon_skills(soup):\n",
    "    skills = []\n",
    "    \n",
    "    for tr_soup in soup.findAll('tr','li',class_='move_main_row'):\n",
    "        # Only learned by Lv UP!!\n",
    "        if '技' in tr_soup.text:\n",
    "            print('技 Included Break!!')\n",
    "            break\n",
    "        \n",
    "        # Learning Level\n",
    "        #for td_soup in tr_soup.findAll('td',class_='move_condition_cell'):\n",
    "        #    print(td_soup.text)\n",
    "        \n",
    "        # Skill Name\n",
    "        for td_soup in tr_soup.findAll('td',class_='move_name_cell'):\n",
    "            \n",
    "            skill = td_soup.find('a').text\n",
    "            #print(skill)\n",
    "            skills.append(skill)\n",
    "    \n",
    "    return skills\n",
    "\n",
    "def scrape_name(soup):\n",
    "    name = soup.find('tbody').find('tr').find('th').text        \n",
    "    return name\n",
    "    \n",
    "if __name__ == '__main__':\n",
    "    print(\"STAART CRAWLING\")\n",
    "    #soup = get_soup(URL)\n",
    "    soup = get_soup_local(LOCAL_URL,'EUC-jp')\n",
    "    \n",
    "    name = scrape_name(soup)\n",
    "    types = scrape_pokemon_type(soup)\n",
    "    skills = scrape_pokemon_skills(soup)\n",
    "    print(name)\n",
    "    print(types)\n",
    "    print(skills)"
   ]
  },
  {
   "cell_type": "code",
   "execution_count": null,
   "metadata": {
    "collapsed": true
   },
   "outputs": [],
   "source": []
  }
 ],
 "metadata": {
  "kernelspec": {
   "display_name": "Python 3",
   "language": "python",
   "name": "python3"
  },
  "language_info": {
   "codemirror_mode": {
    "name": "ipython",
    "version": 3
   },
   "file_extension": ".py",
   "mimetype": "text/x-python",
   "name": "python",
   "nbconvert_exporter": "python",
   "pygments_lexer": "ipython3",
   "version": "3.6.2"
  }
 },
 "nbformat": 4,
 "nbformat_minor": 2
}
