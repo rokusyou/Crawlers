{
 "cells": [
  {
   "cell_type": "code",
   "execution_count": null,
   "metadata": {
    "collapsed": true
   },
   "outputs": [],
   "source": [
    "# LOCAL\n",
    "def scrape_pokemon_skills(soup):\n",
    "    skills = []\n",
    "    \n",
    "    for tr_soup in soup.findAll('tr','li',class_='move_main_row'):\n",
    "        # Only learned by Lv UP!!\n",
    "        if '技' in tr_soup.text:\n",
    "            print('技 Included Break!!')\n",
    "            break\n",
    "        \n",
    "        # Learning Level\n",
    "        #for td_soup in tr_soup.findAll('td',class_='move_condition_cell'):\n",
    "        #    print(td_soup.text)\n",
    "        \n",
    "        # Skill Name\n",
    "        for td_soup in tr_soup.findAll('td',class_='move_name_cell'):\n",
    "            \n",
    "            skill = td_soup.find('a').text\n",
    "            #print(skill)\n",
    "            skills.append(skill)\n",
    "    \n",
    "    return skills\n",
    "\n",
    "def scrape_name(soup):\n",
    "    name = soup.find('tbody').find('tr').find('th').text        \n",
    "    return name\n",
    "    \n",
    "if __name__ == '__main__':\n",
    "    print(\"STAART CRAWLING\")\n",
    "    i = START_NUM\n",
    "    #soup = get_soup(URL)\n",
    "    soup = get_soup_local(LOCAL_URL,'EUC-jp')\n",
    "    \n",
    "    name = scrape_name(soup)\n",
    "    types = scrape_pokemon_type(soup)\n",
    "    skills = scrape_pokemon_skills(soup)\n",
    "    print(name)\n",
    "    print(types)\n",
    "    print(skills)"
   ]
  }
 ],
 "metadata": {
  "kernelspec": {
   "display_name": "Python 3",
   "language": "python",
   "name": "python3"
  },
  "language_info": {
   "codemirror_mode": {
    "name": "ipython",
    "version": 3
   },
   "file_extension": ".py",
   "mimetype": "text/x-python",
   "name": "python",
   "nbconvert_exporter": "python",
   "pygments_lexer": "ipython3",
   "version": "3.6.2"
  }
 },
 "nbformat": 4,
 "nbformat_minor": 2
}
